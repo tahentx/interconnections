{
 "cells": [
  {
   "cell_type": "code",
   "execution_count": 52,
   "metadata": {},
   "outputs": [],
   "source": [
    "import os\n",
    "from random import random, randint\n",
    "from mlflow import log_metric, log_param, log_artifacts\n",
    "\n",
    "# if __name__ == \"__main__\":\n",
    "#     # Log a parameter (key-value pair)\n",
    "#     log_param(\"param1\", randint(0, 100))\n",
    "\n",
    "#     # Log a metric; metrics can be updated throughout the run\n",
    "#     log_metric(\"foo\", random())\n",
    "#     log_metric(\"foo\", random() + 1)\n",
    "#     log_metric(\"foo\", random() + 2)\n",
    "\n",
    "#     # Log an artifact (output file)\n",
    "#     if not os.path.exists(\"outputs\"):\n",
    "#         os.makedirs(\"outputs\")\n",
    "#     with open(\"outputs/test.txt\", \"w\") as f:\n",
    "#         f.write(\"hello world!\")\n",
    "#     log_artifacts(\"outputs\")"
   ]
  },
  {
   "cell_type": "code",
   "execution_count": 53,
   "metadata": {},
   "outputs": [],
   "source": [
    "import pandas as pd\n",
    "import seaborn as sns\n",
    "import matplotlib.pyplot as plt"
   ]
  },
  {
   "cell_type": "code",
   "execution_count": 54,
   "metadata": {},
   "outputs": [],
   "source": [
    "pv_df = pd.read_pickle('pv_apps.pkl')"
   ]
  },
  {
   "cell_type": "code",
   "execution_count": 55,
   "metadata": {},
   "outputs": [
    {
     "data": {
      "text/plain": [
       "array(['application id', 'preceding id', 'superceding id',\n",
       "       'matched csi application number', 'application status', 'utility',\n",
       "       'service city', 'service zip', 'service county', 'technology type',\n",
       "       'system size dc', 'system size ac', 'storage capacity (kwh)',\n",
       "       'storage size (kw ac)', 'inverter size (kw ac)', 'tilt', 'azimuth',\n",
       "       'mounting method', 'tracking', 'customer sector',\n",
       "       'app received date', 'app complete date', 'app approved date',\n",
       "       'decommissioned date', 'self installer', 'installer name',\n",
       "       'installer phone', 'installer city', 'installer state',\n",
       "       'installer zip', 'cslb number', 'third party owned',\n",
       "       'third party owned type', 'third party name', 'pace financed',\n",
       "       'pace financier', 'electric vehicle', 'electric vehicle count',\n",
       "       'system output monitoring', 'system output reports to vendor?',\n",
       "       'system output monitoring provider', 'total system cost',\n",
       "       'itc cost basis', 'cost/watt', 'nem tariff',\n",
       "       'interconnection program', 'vnem, nem-v, nem-agg',\n",
       "       'project is vnem, nem-v, nem-agg?', 'nempv or nonnempv',\n",
       "       'generator model 1', 'generator manufacturer 1',\n",
       "       'generator quantity 1', 'generator model 2',\n",
       "       'generator manufacturer 2', 'generator quantity 2',\n",
       "       'generator model 3', 'generator manufacturer 3',\n",
       "       'generator quantity 3', 'generator model 4',\n",
       "       'generator manufacturer 4', 'generator quantity 4',\n",
       "       'generator model 5', 'generator manufacturer 5',\n",
       "       'generator quantity 5', 'generator model 6',\n",
       "       'generator manufacturer 6', 'generator quantity 6',\n",
       "       'generator model 7', 'generator manufacturer 7',\n",
       "       'generator quantity 7', 'generator model 8',\n",
       "       'generator manufacturer 8', 'generator quantity 8',\n",
       "       'generator model 9', 'generator manufacturer 9',\n",
       "       'generator quantity 9', 'generator model 10',\n",
       "       'generator manufacturer 10', 'generator quantity 10',\n",
       "       'inverter model 1', 'inverter manufacturer 1',\n",
       "       'inverter quantity 1', 'inverter model 2',\n",
       "       'inverter manufacturer 2', 'inverter quantity 2',\n",
       "       'inverter model 3', 'inverter manufacturer 3',\n",
       "       'inverter quantity 3', 'inverter model 4',\n",
       "       'inverter manufacturer 4', 'inverter quantity 4',\n",
       "       'inverter model 5', 'inverter manufacturer 5',\n",
       "       'inverter quantity 5', 'inverter model 6',\n",
       "       'inverter manufacturer 6', 'inverter quantity 6',\n",
       "       'inverter model 7', 'inverter manufacturer 7',\n",
       "       'inverter quantity 7', 'inverter model 8',\n",
       "       'inverter manufacturer 8', 'inverter quantity 8',\n",
       "       'inverter model 9', 'inverter manufacturer 9',\n",
       "       'inverter quantity 9', 'time_to_approval'], dtype=object)"
      ]
     },
     "execution_count": 55,
     "metadata": {},
     "output_type": "execute_result"
    }
   ],
   "source": [
    "pv_df.columns.values"
   ]
  },
  {
   "cell_type": "code",
   "execution_count": 56,
   "metadata": {},
   "outputs": [
    {
     "data": {
      "text/html": [
       "<div>\n",
       "<style scoped>\n",
       "    .dataframe tbody tr th:only-of-type {\n",
       "        vertical-align: middle;\n",
       "    }\n",
       "\n",
       "    .dataframe tbody tr th {\n",
       "        vertical-align: top;\n",
       "    }\n",
       "\n",
       "    .dataframe thead th {\n",
       "        text-align: right;\n",
       "    }\n",
       "</style>\n",
       "<table border=\"1\" class=\"dataframe\">\n",
       "  <thead>\n",
       "    <tr style=\"text-align: right;\">\n",
       "      <th></th>\n",
       "      <th>application id</th>\n",
       "      <th>preceding id</th>\n",
       "      <th>superceding id</th>\n",
       "      <th>matched csi application number</th>\n",
       "      <th>application status</th>\n",
       "      <th>utility</th>\n",
       "      <th>service city</th>\n",
       "      <th>service zip</th>\n",
       "      <th>service county</th>\n",
       "      <th>technology type</th>\n",
       "      <th>...</th>\n",
       "      <th>inverter model 7</th>\n",
       "      <th>inverter manufacturer 7</th>\n",
       "      <th>inverter quantity 7</th>\n",
       "      <th>inverter model 8</th>\n",
       "      <th>inverter manufacturer 8</th>\n",
       "      <th>inverter quantity 8</th>\n",
       "      <th>inverter model 9</th>\n",
       "      <th>inverter manufacturer 9</th>\n",
       "      <th>inverter quantity 9</th>\n",
       "      <th>time_to_approval</th>\n",
       "    </tr>\n",
       "  </thead>\n",
       "  <tbody>\n",
       "    <tr>\n",
       "      <th>0</th>\n",
       "      <td>PGE-INT-106960608</td>\n",
       "      <td>NaN</td>\n",
       "      <td>NaN</td>\n",
       "      <td>NaN</td>\n",
       "      <td>Interconnected</td>\n",
       "      <td>PGE</td>\n",
       "      <td>NaN</td>\n",
       "      <td>nan</td>\n",
       "      <td>BUTTE</td>\n",
       "      <td>pv</td>\n",
       "      <td>...</td>\n",
       "      <td>NaN</td>\n",
       "      <td>NaN</td>\n",
       "      <td>NaN</td>\n",
       "      <td>NaN</td>\n",
       "      <td>NaN</td>\n",
       "      <td>NaN</td>\n",
       "      <td>NaN</td>\n",
       "      <td>NaN</td>\n",
       "      <td>NaN</td>\n",
       "      <td>307 days</td>\n",
       "    </tr>\n",
       "    <tr>\n",
       "      <th>1</th>\n",
       "      <td>PGE-INT-106960610</td>\n",
       "      <td>NaN</td>\n",
       "      <td>PGE-INT-114660819</td>\n",
       "      <td>NaN</td>\n",
       "      <td>Interconnected</td>\n",
       "      <td>PGE</td>\n",
       "      <td>NaN</td>\n",
       "      <td>nan</td>\n",
       "      <td>SAN MATEO</td>\n",
       "      <td>pv</td>\n",
       "      <td>...</td>\n",
       "      <td>NaN</td>\n",
       "      <td>NaN</td>\n",
       "      <td>NaN</td>\n",
       "      <td>NaN</td>\n",
       "      <td>NaN</td>\n",
       "      <td>NaN</td>\n",
       "      <td>NaN</td>\n",
       "      <td>NaN</td>\n",
       "      <td>NaN</td>\n",
       "      <td>37 days</td>\n",
       "    </tr>\n",
       "    <tr>\n",
       "      <th>3</th>\n",
       "      <td>PGE-INT-106960621</td>\n",
       "      <td>NaN</td>\n",
       "      <td>NaN</td>\n",
       "      <td>NaN</td>\n",
       "      <td>Interconnected</td>\n",
       "      <td>PGE</td>\n",
       "      <td>NaN</td>\n",
       "      <td>nan</td>\n",
       "      <td>SAN FRANCISCO</td>\n",
       "      <td>pv</td>\n",
       "      <td>...</td>\n",
       "      <td>NaN</td>\n",
       "      <td>NaN</td>\n",
       "      <td>NaN</td>\n",
       "      <td>NaN</td>\n",
       "      <td>NaN</td>\n",
       "      <td>NaN</td>\n",
       "      <td>NaN</td>\n",
       "      <td>NaN</td>\n",
       "      <td>NaN</td>\n",
       "      <td>1046 days</td>\n",
       "    </tr>\n",
       "    <tr>\n",
       "      <th>4</th>\n",
       "      <td>PGE-INT-106960670</td>\n",
       "      <td>PGE-INT-113318949</td>\n",
       "      <td>PGE-INT-114200704</td>\n",
       "      <td>NaN</td>\n",
       "      <td>Interconnected</td>\n",
       "      <td>PGE</td>\n",
       "      <td>NaN</td>\n",
       "      <td>nan</td>\n",
       "      <td>MONTEREY</td>\n",
       "      <td>pv</td>\n",
       "      <td>...</td>\n",
       "      <td>NaN</td>\n",
       "      <td>NaN</td>\n",
       "      <td>NaN</td>\n",
       "      <td>NaN</td>\n",
       "      <td>NaN</td>\n",
       "      <td>NaN</td>\n",
       "      <td>NaN</td>\n",
       "      <td>NaN</td>\n",
       "      <td>NaN</td>\n",
       "      <td>301 days</td>\n",
       "    </tr>\n",
       "  </tbody>\n",
       "</table>\n",
       "<p>4 rows × 107 columns</p>\n",
       "</div>"
      ],
      "text/plain": [
       "      application id       preceding id     superceding id  \\\n",
       "0  PGE-INT-106960608                NaN                NaN   \n",
       "1  PGE-INT-106960610                NaN  PGE-INT-114660819   \n",
       "3  PGE-INT-106960621                NaN                NaN   \n",
       "4  PGE-INT-106960670  PGE-INT-113318949  PGE-INT-114200704   \n",
       "\n",
       "  matched csi application number application status utility service city  \\\n",
       "0                            NaN     Interconnected     PGE          NaN   \n",
       "1                            NaN     Interconnected     PGE          NaN   \n",
       "3                            NaN     Interconnected     PGE          NaN   \n",
       "4                            NaN     Interconnected     PGE          NaN   \n",
       "\n",
       "  service zip service county technology type  ...  inverter model 7  \\\n",
       "0         nan          BUTTE              pv  ...               NaN   \n",
       "1         nan      SAN MATEO              pv  ...               NaN   \n",
       "3         nan  SAN FRANCISCO              pv  ...               NaN   \n",
       "4         nan       MONTEREY              pv  ...               NaN   \n",
       "\n",
       "   inverter manufacturer 7  inverter quantity 7  inverter model 8  \\\n",
       "0                      NaN                  NaN               NaN   \n",
       "1                      NaN                  NaN               NaN   \n",
       "3                      NaN                  NaN               NaN   \n",
       "4                      NaN                  NaN               NaN   \n",
       "\n",
       "   inverter manufacturer 8 inverter quantity 8 inverter model 9  \\\n",
       "0                      NaN                 NaN              NaN   \n",
       "1                      NaN                 NaN              NaN   \n",
       "3                      NaN                 NaN              NaN   \n",
       "4                      NaN                 NaN              NaN   \n",
       "\n",
       "  inverter manufacturer 9 inverter quantity 9 time_to_approval  \n",
       "0                     NaN                 NaN         307 days  \n",
       "1                     NaN                 NaN          37 days  \n",
       "3                     NaN                 NaN        1046 days  \n",
       "4                     NaN                 NaN         301 days  \n",
       "\n",
       "[4 rows x 107 columns]"
      ]
     },
     "execution_count": 56,
     "metadata": {},
     "output_type": "execute_result"
    }
   ],
   "source": [
    "pv_df.head(4)"
   ]
  },
  {
   "cell_type": "code",
   "execution_count": 57,
   "metadata": {},
   "outputs": [],
   "source": [
    "x = pv_df['utility'].value_counts()"
   ]
  },
  {
   "cell_type": "code",
   "execution_count": 58,
   "metadata": {},
   "outputs": [
    {
     "data": {
      "text/plain": [
       "Text(0, 0.5, 'Application Count')"
      ]
     },
     "execution_count": 58,
     "metadata": {},
     "output_type": "execute_result"
    },
    {
     "data": {
      "image/png": "[encoded data removed]",
      "text/plain": [
       "<Figure size 432x288 with 1 Axes>"
      ]
     },
     "metadata": {},
     "output_type": "display_data"
    }
   ],
   "source": [
    "sns.barplot(x.index,x.values)\n",
    "plt.title(\"Applications by Utility in California\")\n",
    "plt.xlabel(\"Utility\")\n",
    "plt.ylabel(\"Application Count\")"
   ]
  },
  {
   "cell_type": "code",
   "execution_count": 59,
   "metadata": {},
   "outputs": [],
   "source": [
    "pv_df['time_to_approval'] = pv_df['time_to_approval'].dt.days"
   ]
  },
  {
   "cell_type": "code",
   "execution_count": 60,
   "metadata": {},
   "outputs": [],
   "source": [
    "ut = pv_df.groupby(['utility'])['time_to_approval'].mean()"
   ]
  },
  {
   "cell_type": "code",
   "execution_count": 61,
   "metadata": {},
   "outputs": [
    {
     "data": {
      "text/plain": [
       "Text(0, 0.5, 'Days (avg.)')"
      ]
     },
     "execution_count": 61,
     "metadata": {},
     "output_type": "execute_result"
    },
    {
     "data": {
      "image/png": "[encoded data removed]",
      "text/plain": [
       "<Figure size 432x288 with 1 Axes>"
      ]
     },
     "metadata": {},
     "output_type": "display_data"
    }
   ],
   "source": [
    "sns.barplot(ut.index,ut.values)\n",
    "plt.title(\"Average Days To Approve\")\n",
    "plt.xlabel(\"Utility\")\n",
    "plt.ylabel(\"Days (avg.)\")"
   ]
  },
  {
   "cell_type": "code",
   "execution_count": 62,
   "metadata": {},
   "outputs": [],
   "source": [
    "dc = pv_df.groupby([\"utility\"])['system size dc'].mean()"
   ]
  },
  {
   "cell_type": "code",
   "execution_count": 63,
   "metadata": {},
   "outputs": [
    {
     "data": {
      "text/plain": [
       "<matplotlib.axes._subplots.AxesSubplot at 0x7fccb0c5a7f0>"
      ]
     },
     "execution_count": 63,
     "metadata": {},
     "output_type": "execute_result"
    },
    {
     "data": {
      "image/png": "[encoded data removed]",
      "text/plain": [
       "<Figure size 432x288 with 1 Axes>"
      ]
     },
     "metadata": {},
     "output_type": "display_data"
    }
   ],
   "source": [
    "sns.barplot(dc.index,dc.values)"
   ]
  },
  {
   "cell_type": "code",
   "execution_count": 64,
   "metadata": {},
   "outputs": [
    {
     "data": {
      "text/plain": [
       "0.3176727923138562"
      ]
     },
     "execution_count": 64,
     "metadata": {},
     "output_type": "execute_result"
    }
   ],
   "source": [
    "pv_df[\"system size dc\"].corr(pv_df['time_to_approval'])"
   ]
  },
  {
   "cell_type": "code",
   "execution_count": 65,
   "metadata": {},
   "outputs": [],
   "source": [
    "sns.set_style(\"white\")"
   ]
  },
  {
   "cell_type": "code",
   "execution_count": 66,
   "metadata": {},
   "outputs": [
    {
     "data": {
      "text/plain": [
       "<matplotlib.axes._subplots.AxesSubplot at 0x7fccb4899a00>"
      ]
     },
     "execution_count": 66,
     "metadata": {},
     "output_type": "execute_result"
    },
    {
     "data": {
      "image/png": "[encoded data removed]",
      "text/plain": [
       "<Figure size 432x288 with 1 Axes>"
      ]
     },
     "metadata": {},
     "output_type": "display_data"
    }
   ],
   "source": [
    "sns.scatterplot(x=\"total system cost\",y=\"time_to_approval\",data=pv_df)"
   ]
  },
  {
   "cell_type": "code",
   "execution_count": 67,
   "metadata": {},
   "outputs": [
    {
     "data": {
      "text/plain": [
       "<matplotlib.axes._subplots.AxesSubplot at 0x7fccb4899070>"
      ]
     },
     "execution_count": 67,
     "metadata": {},
     "output_type": "execute_result"
    },
    {
     "data": {
      "image/png": "[encoded data removed]",
      "text/plain": [
       "<Figure size 432x288 with 1 Axes>"
      ]
     },
     "metadata": {},
     "output_type": "display_data"
    }
   ],
   "source": [
    "sns.distplot(pv_df[\"total system cost\"])"
   ]
  },
  {
   "cell_type": "code",
   "execution_count": 68,
   "metadata": {},
   "outputs": [
    {
     "data": {
      "text/plain": [
       "20000000.0"
      ]
     },
     "execution_count": 68,
     "metadata": {},
     "output_type": "execute_result"
    }
   ],
   "source": [
    "pv_df['total system cost'].max()"
   ]
  },
  {
   "cell_type": "code",
   "execution_count": 69,
   "metadata": {},
   "outputs": [
    {
     "data": {
      "text/plain": [
       "PPA               3314\n",
       "Lease              334\n",
       "Other              281\n",
       "Pre-paid Lease      28\n",
       "Pre-Paid Lease      12\n",
       "Name: third party owned type, dtype: int64"
      ]
     },
     "execution_count": 69,
     "metadata": {},
     "output_type": "execute_result"
    }
   ],
   "source": [
    "pv_df[\"third party owned type\"].value_counts()"
   ]
  },
  {
   "cell_type": "code",
   "execution_count": 70,
   "metadata": {},
   "outputs": [
    {
     "data": {
      "text/plain": [
       "Yes    13583\n",
       "No      4967\n",
       "YES        1\n",
       "Name: system output monitoring, dtype: int64"
      ]
     },
     "execution_count": 70,
     "metadata": {},
     "output_type": "execute_result"
    }
   ],
   "source": [
    "pv_df[\"system output monitoring\"].value_counts()"
   ]
  },
  {
   "cell_type": "code",
   "execution_count": 71,
   "metadata": {},
   "outputs": [
    {
     "data": {
      "text/plain": [
       "Rooftop    15903\n",
       "Ground      3449\n",
       "Mixed        918\n",
       "Name: mounting method, dtype: int64"
      ]
     },
     "execution_count": 71,
     "metadata": {},
     "output_type": "execute_result"
    }
   ],
   "source": [
    "pv_df[\"mounting method\"].value_counts()"
   ]
  },
  {
   "cell_type": "code",
   "execution_count": 72,
   "metadata": {},
   "outputs": [],
   "source": [
    "mount = pv_df.groupby([\"mounting method\"])[\"time_to_approval\"].mean()"
   ]
  },
  {
   "cell_type": "code",
   "execution_count": 73,
   "metadata": {},
   "outputs": [
    {
     "data": {
      "text/plain": [
       "mounting method\n",
       "Ground     243.714410\n",
       "Mixed      352.324619\n",
       "Rooftop    126.482488\n",
       "Name: time_to_approval, dtype: float64"
      ]
     },
     "execution_count": 73,
     "metadata": {},
     "output_type": "execute_result"
    }
   ],
   "source": [
    "mount"
   ]
  },
  {
   "cell_type": "code",
   "execution_count": 74,
   "metadata": {},
   "outputs": [
    {
     "data": {
      "text/plain": [
       "Fixed          20503\n",
       "Single-Axis      327\n",
       "Mixed             80\n",
       "Single-axis       30\n",
       "Dual-Axis         20\n",
       "Dual-axis          9\n",
       "Name: tracking, dtype: int64"
      ]
     },
     "execution_count": 74,
     "metadata": {},
     "output_type": "execute_result"
    }
   ],
   "source": [
    "pv_df[\"tracking\"].value_counts()"
   ]
  },
  {
   "cell_type": "code",
   "execution_count": 75,
   "metadata": {},
   "outputs": [
    {
     "data": {
      "text/plain": [
       "tracking\n",
       "Dual-Axis      250.850000\n",
       "Dual-axis       53.333333\n",
       "Fixed          149.870751\n",
       "Mixed          247.512500\n",
       "Single-Axis    375.006116\n",
       "Single-axis     52.100000\n",
       "Name: time_to_approval, dtype: float64"
      ]
     },
     "execution_count": 75,
     "metadata": {},
     "output_type": "execute_result"
    }
   ],
   "source": [
    "pv_df.groupby([\"tracking\"])[\"time_to_approval\"].mean()"
   ]
  },
  {
   "cell_type": "code",
   "execution_count": 76,
   "metadata": {},
   "outputs": [],
   "source": [
    "pv_df = pv_df[pv_df[\"time_to_approval\"] > 0]"
   ]
  },
  {
   "cell_type": "code",
   "execution_count": 77,
   "metadata": {},
   "outputs": [
    {
     "data": {
      "text/plain": [
       "<matplotlib.axes._subplots.AxesSubplot at 0x7fccb7087520>"
      ]
     },
     "execution_count": 77,
     "metadata": {},
     "output_type": "execute_result"
    },
    {
     "data": {
      "image/png": "[encoded data removed]",
      "text/plain": [
       "<Figure size 432x288 with 1 Axes>"
      ]
     },
     "metadata": {},
     "output_type": "display_data"
    }
   ],
   "source": [
    "sns.distplot(pv_df[\"time_to_approval\"])"
   ]
  },
  {
   "cell_type": "code",
   "execution_count": 78,
   "metadata": {},
   "outputs": [
    {
     "data": {
      "text/plain": [
       "<matplotlib.axes._subplots.AxesSubplot at 0x7fccb8d34a00>"
      ]
     },
     "execution_count": 78,
     "metadata": {},
     "output_type": "execute_result"
    },
    {
     "data": {
      "image/png": "[encoded data removed]",
      "text/plain": [
       "<Figure size 432x288 with 1 Axes>"
      ]
     },
     "metadata": {},
     "output_type": "display_data"
    }
   ],
   "source": [
    "sns.boxplot(x=\"utility\",y=\"time_to_approval\",data=pv_df)"
   ]
  },
  {
   "cell_type": "code",
   "execution_count": 83,
   "metadata": {},
   "outputs": [],
   "source": [
    "pv_df = pv_df[pv_df['time_to_approval'] <= 1000]"
   ]
  },
  {
   "cell_type": "code",
   "execution_count": 85,
   "metadata": {},
   "outputs": [
    {
     "data": {
      "text/plain": [
       "998.0"
      ]
     },
     "execution_count": 85,
     "metadata": {},
     "output_type": "execute_result"
    }
   ],
   "source": [
    "pv_df[\"time_to_approval\"].max()"
   ]
  },
  {
   "cell_type": "code",
   "execution_count": 86,
   "metadata": {},
   "outputs": [
    {
     "data": {
      "text/plain": [
       "<matplotlib.axes._subplots.AxesSubplot at 0x7fccb3082d30>"
      ]
     },
     "execution_count": 86,
     "metadata": {},
     "output_type": "execute_result"
    },
    {
     "data": {
      "image/png": "[encoded data removed]",
      "text/plain": [
       "<Figure size 432x288 with 1 Axes>"
      ]
     },
     "metadata": {},
     "output_type": "display_data"
    }
   ],
   "source": [
    "sns.distplot(pv_df[\"time_to_approval\"])"
   ]
  },
  {
   "cell_type": "code",
   "execution_count": 89,
   "metadata": {},
   "outputs": [
    {
     "data": {
      "text/plain": [
       "SAN DIEGO          4150\n",
       "Los Angeles        2476\n",
       "FRESNO             1571\n",
       "San Bernardino     1452\n",
       "Riverside          1245\n",
       "                   ... \n",
       "San Luis Obispo       1\n",
       "Santa barbara         1\n",
       "Santa Clara           1\n",
       "Sonoma                1\n",
       "SIERRA                1\n",
       "Name: service county, Length: 72, dtype: int64"
      ]
     },
     "execution_count": 89,
     "metadata": {},
     "output_type": "execute_result"
    }
   ],
   "source": [
    "pv_df[\"service county\"].value_counts()"
   ]
  },
  {
   "cell_type": "code",
   "execution_count": null,
   "metadata": {},
   "outputs": [],
   "source": []
  }
 ],
 "metadata": {
  "kernelspec": {
   "display_name": "Python 3",
   "language": "python",
   "name": "python3"
  },
  "language_info": {
   "codemirror_mode": {
    "name": "ipython",
    "version": 3
   },
   "file_extension": ".py",
   "mimetype": "text/x-python",
   "name": "python",
   "nbconvert_exporter": "python",
   "pygments_lexer": "ipython3",
   "version": "3.8.2"
  },
  "varInspector": {
   "cols": {
    "lenName": 16,
    "lenType": 16,
    "lenVar": 40
   },
   "kernels_config": {
    "python": {
     "delete_cmd_postfix": "",
     "delete_cmd_prefix": "del ",
     "library": "var_list.py",
     "varRefreshCmd": "print(var_dic_list())"
    },
    "r": {
     "delete_cmd_postfix": ") ",
     "delete_cmd_prefix": "rm(",
     "library": "var_list.r",
     "varRefreshCmd": "cat(var_dic_list()) "
    }
   },
   "types_to_exclude": [
    "module",
    "function",
    "builtin_function_or_method",
    "instance",
    "_Feature"
   ],
   "window_display": false
  }
 },
 "nbformat": 4,
 "nbformat_minor": 4
}
