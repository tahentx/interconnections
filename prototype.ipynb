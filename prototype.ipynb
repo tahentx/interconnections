{
 "cells": [
  {
   "cell_type": "code",
   "execution_count": 66,
   "metadata": {},
   "outputs": [],
   "source": [
    "from sklearn.preprocessing import StandardScaler\n",
    "import numpy as np\n",
    "from sklearn.linear_model import LinearRegression\n",
    "import pandas as pd\n",
    "from sklearn.model_selection import train_test_split"
   ]
  },
  {
   "cell_type": "code",
   "execution_count": 48,
   "metadata": {},
   "outputs": [],
   "source": [
    "df = pd.read_pickle('pv_apps_v2.pkl')"
   ]
  },
  {
   "cell_type": "code",
   "execution_count": 72,
   "metadata": {},
   "outputs": [],
   "source": [
    "# create dummies for categorical variables\n",
    "cat_variables = df[[\"utility\",\"service county\",\"technology type\",\"mounting method\",\"tracking\",\"customer sector\"]]\n",
    "cat_variable_dummies = pd.get_dummies(cat_variables)"
   ]
  },
  {
   "cell_type": "code",
   "execution_count": 91,
   "metadata": {},
   "outputs": [],
   "source": [
    "# scale dc capacity\n",
    "capacity = np.array(df['system size dc']).reshape(-1,1)\n",
    "scaler = StandardScaler()\n",
    "dc_capacity_scaled = scaler.fit_transform(capacity)\n",
    "dc_capacity_scaled = pd.Series(dc_capacity_scaled.flatten())"
   ]
  },
  {
   "cell_type": "code",
   "execution_count": 95,
   "metadata": {},
   "outputs": [],
   "source": [
    "# combine capacity and categorical features to create features\n",
    "features = pd.concat([cat_variable_dummies,dc_capacity_scaled])"
   ]
  },
  {
   "cell_type": "code",
   "execution_count": 97,
   "metadata": {},
   "outputs": [
    {
     "data": {
      "text/plain": [
       "array([0, 'customer sector_Commercial', 'customer sector_Educational',\n",
       "       'customer sector_Industrial', 'customer sector_Military',\n",
       "       'customer sector_Non-Profit', 'customer sector_Not Available',\n",
       "       'customer sector_Other Government', 'mounting method_Ground',\n",
       "       'mounting method_Mixed', 'mounting method_Rooftop',\n",
       "       'service county_ALAMEDA', 'service county_AMADOR',\n",
       "       'service county_BUTTE', 'service county_CALAVERAS',\n",
       "       'service county_COLUSA', 'service county_CONTRA COSTA',\n",
       "       'service county_Contra Costa', 'service county_EL DORADO',\n",
       "       'service county_FRESNO', 'service county_Fresno',\n",
       "       'service county_GLENN', 'service county_HUMBOLDT',\n",
       "       'service county_Imperial', 'service county_Inyo',\n",
       "       'service county_KERN', 'service county_KINGS',\n",
       "       'service county_Kern', 'service county_Kings',\n",
       "       'service county_LAKE', 'service county_LASSEN',\n",
       "       'service county_LOS ANGELES', 'service county_Los Angeles',\n",
       "       'service county_MADERA', 'service county_MARIN',\n",
       "       'service county_MARIPOSA', 'service county_MENDOCINO',\n",
       "       'service county_MERCED', 'service county_MONTEREY',\n",
       "       'service county_Mono', 'service county_NAPA',\n",
       "       'service county_NEVADA', 'service county_ORANGE',\n",
       "       'service county_Orange', 'service county_PLACER',\n",
       "       'service county_PLUMAS', 'service county_RIVERSIDE',\n",
       "       'service county_Riverside', 'service county_SACRAMENTO',\n",
       "       'service county_SAN BENITO', 'service county_SAN BERNARDINO',\n",
       "       'service county_SAN DIEGO', 'service county_SAN FRANCISCO',\n",
       "       'service county_SAN JOAQUIN', 'service county_SAN LUIS OBISPO',\n",
       "       'service county_SAN MATEO', 'service county_SANTA BARBARA',\n",
       "       'service county_SANTA CLARA', 'service county_SANTA CRUZ',\n",
       "       'service county_SHASTA', 'service county_SIERRA',\n",
       "       'service county_SOLANO', 'service county_SONOMA',\n",
       "       'service county_STANISLAUS', 'service county_SUTTER',\n",
       "       'service county_San Bernardino', 'service county_San Francisco',\n",
       "       'service county_San Joaquin', 'service county_San Luis Obispo',\n",
       "       'service county_San Mateo', 'service county_Santa Barbara',\n",
       "       'service county_Santa Clara', 'service county_Santa barbara',\n",
       "       'service county_Sonoma', 'service county_TEHAMA',\n",
       "       'service county_TULARE', 'service county_TUOLUMNE',\n",
       "       'service county_Tulare', 'service county_VENTURA',\n",
       "       'service county_Ventura', 'service county_YOLO',\n",
       "       'service county_YUBA', 'service county_fresno',\n",
       "       'technology type_pv', 'technology type_pv_with_storage',\n",
       "       'tracking_Dual-Axis', 'tracking_Dual-axis', 'tracking_Fixed',\n",
       "       'tracking_Mixed', 'tracking_Single-Axis', 'tracking_Single-axis',\n",
       "       'utility_PGE', 'utility_SCE', 'utility_SDGE'], dtype=object)"
      ]
     },
     "execution_count": 97,
     "metadata": {},
     "output_type": "execute_result"
    }
   ],
   "source": [
    "features.columns.values"
   ]
  },
  {
   "cell_type": "code",
   "execution_count": null,
   "metadata": {},
   "outputs": [],
   "source": []
  }
 ],
 "metadata": {
  "kernelspec": {
   "display_name": "Python 3",
   "language": "python",
   "name": "python3"
  },
  "language_info": {
   "codemirror_mode": {
    "name": "ipython",
    "version": 3
   },
   "file_extension": ".py",
   "mimetype": "text/x-python",
   "name": "python",
   "nbconvert_exporter": "python",
   "pygments_lexer": "ipython3",
   "version": "3.8.2"
  },
  "varInspector": {
   "cols": {
    "lenName": 16,
    "lenType": 16,
    "lenVar": 40
   },
   "kernels_config": {
    "python": {
     "delete_cmd_postfix": "",
     "delete_cmd_prefix": "del ",
     "library": "var_list.py",
     "varRefreshCmd": "print(var_dic_list())"
    },
    "r": {
     "delete_cmd_postfix": ") ",
     "delete_cmd_prefix": "rm(",
     "library": "var_list.r",
     "varRefreshCmd": "cat(var_dic_list()) "
    }
   },
   "types_to_exclude": [
    "module",
    "function",
    "builtin_function_or_method",
    "instance",
    "_Feature"
   ],
   "window_display": false
  }
 },
 "nbformat": 4,
 "nbformat_minor": 4
}
